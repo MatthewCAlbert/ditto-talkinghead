{
  "cells": [
    {
      "cell_type": "code",
      "execution_count": null,
      "metadata": {
        "id": "TrkwNj5Tr0Qq"
      },
      "outputs": [],
      "source": [
        "# %cd /content/drive/MyDrive/colab/gen"
      ]
    },
    {
      "cell_type": "markdown",
      "metadata": {
        "id": "UXEDUgKdZETY"
      },
      "source": [
        "## Note:\n",
        "The following steps include:\n",
        "- Setup Environment  \n",
        "    - ***If there is a numpy 2.x dependency issue, you can ignore it.***\n",
        "- Restart Colab Runtime  \n",
        "    - ***Important!***\n",
        "- Prepare Code and Models  \n",
        "- Inference and Display  "
      ]
    },
    {
      "cell_type": "markdown",
      "metadata": {
        "id": "vjynPPFCYYMg"
      },
      "source": [
        "## Setup Environment"
      ]
    },
    {
      "cell_type": "markdown",
      "metadata": {
        "id": "8K-2slSUULj1"
      },
      "source": [
        "### show gpu info"
      ]
    },
    {
      "cell_type": "code",
      "execution_count": null,
      "metadata": {
        "colab": {
          "base_uri": "https://localhost:8080/"
        },
        "id": "KgCi6NxGUTr6",
        "outputId": "998bd629-3e3f-43e8-f7c6-93bac2f3cd2b"
      },
      "outputs": [
        {
          "name": "stdout",
          "output_type": "stream",
          "text": [
            "Tesla T4, 15360 MiB, 15095 MiB\n",
            "/content\n",
            "drive  sample_data\n"
          ]
        }
      ],
      "source": [
        "!nvidia-smi --query-gpu=name,memory.total,memory.free --format=csv,noheader\n",
        "!pwd\n",
        "!ls"
      ]
    },
    {
      "cell_type": "markdown",
      "metadata": {
        "id": "JFwShY0SSpKr"
      },
      "source": [
        "### check torch"
      ]
    },
    {
      "cell_type": "code",
      "execution_count": null,
      "metadata": {
        "id": "JhdOnbTNSnj7"
      },
      "outputs": [],
      "source": [
        "import torch\n",
        "torch.__version__"
      ]
    },
    {
      "cell_type": "markdown",
      "metadata": {
        "id": "8Ux56aUnSyzd"
      },
      "source": [
        "### install packages"
      ]
    },
    {
      "cell_type": "code",
      "execution_count": null,
      "metadata": {
        "colab": {
          "base_uri": "https://localhost:8080/"
        },
        "id": "auE5eVqCSnBx",
        "outputId": "6729a2d6-0593-466b-a5ca-4ba804e9ccd3"
      },
      "outputs": [
        {
          "name": "stdout",
          "output_type": "stream",
          "text": [
            "Collecting tensorrt==8.6.1\n",
            "  Downloading tensorrt-8.6.1.tar.gz (16 kB)\n",
            "  Preparing metadata (setup.py) ... \u001b[?25l\u001b[?25hdone\n",
            "Requirement already satisfied: librosa in /usr/local/lib/python3.11/dist-packages (0.10.2.post1)\n",
            "Requirement already satisfied: tqdm in /usr/local/lib/python3.11/dist-packages (4.67.1)\n",
            "Collecting filetype\n",
            "  Downloading filetype-1.2.0-py2.py3-none-any.whl.metadata (6.5 kB)\n",
            "Requirement already satisfied: imageio in /usr/local/lib/python3.11/dist-packages (2.37.0)\n",
            "Requirement already satisfied: opencv_python_headless in /usr/local/lib/python3.11/dist-packages (4.11.0.86)\n",
            "Requirement already satisfied: scikit-image in /usr/local/lib/python3.11/dist-packages (0.25.1)\n",
            "Requirement already satisfied: cython in /usr/local/lib/python3.11/dist-packages (3.0.12)\n",
            "Requirement already satisfied: cuda-python in /usr/local/lib/python3.11/dist-packages (12.6.0)\n",
            "Requirement already satisfied: imageio-ffmpeg in /usr/local/lib/python3.11/dist-packages (0.6.0)\n",
            "Collecting colored\n",
            "  Downloading colored-2.3.0-py3-none-any.whl.metadata (3.6 kB)\n",
            "Collecting polygraphy\n",
            "  Downloading polygraphy-0.49.18-py2.py3-none-any.whl.metadata (5.8 kB)\n",
            "Collecting numpy==2.0.1\n",
            "  Downloading numpy-2.0.1-cp311-cp311-manylinux_2_17_x86_64.manylinux2014_x86_64.whl.metadata (60 kB)\n",
            "\u001b[2K     \u001b[90m━━━━━━━━━━━━━━━━━━━━━━━━━━━━━━━━━━━━━━━━\u001b[0m \u001b[32m60.9/60.9 kB\u001b[0m \u001b[31m3.7 MB/s\u001b[0m eta \u001b[36m0:00:00\u001b[0m\n",
            "\u001b[?25hRequirement already satisfied: audioread>=2.1.9 in /usr/local/lib/python3.11/dist-packages (from librosa) (3.0.1)\n",
            "Requirement already satisfied: scipy>=1.2.0 in /usr/local/lib/python3.11/dist-packages (from librosa) (1.13.1)\n",
            "Requirement already satisfied: scikit-learn>=0.20.0 in /usr/local/lib/python3.11/dist-packages (from librosa) (1.6.1)\n",
            "Requirement already satisfied: joblib>=0.14 in /usr/local/lib/python3.11/dist-packages (from librosa) (1.4.2)\n",
            "Requirement already satisfied: decorator>=4.3.0 in /usr/local/lib/python3.11/dist-packages (from librosa) (4.4.2)\n",
            "Requirement already satisfied: numba>=0.51.0 in /usr/local/lib/python3.11/dist-packages (from librosa) (0.61.0)\n",
            "Requirement already satisfied: soundfile>=0.12.1 in /usr/local/lib/python3.11/dist-packages (from librosa) (0.13.1)\n",
            "Requirement already satisfied: pooch>=1.1 in /usr/local/lib/python3.11/dist-packages (from librosa) (1.8.2)\n",
            "Requirement already satisfied: soxr>=0.3.2 in /usr/local/lib/python3.11/dist-packages (from librosa) (0.5.0.post1)\n",
            "Requirement already satisfied: typing-extensions>=4.1.1 in /usr/local/lib/python3.11/dist-packages (from librosa) (4.12.2)\n",
            "Requirement already satisfied: lazy-loader>=0.1 in /usr/local/lib/python3.11/dist-packages (from librosa) (0.4)\n",
            "Requirement already satisfied: msgpack>=1.0 in /usr/local/lib/python3.11/dist-packages (from librosa) (1.1.0)\n",
            "Requirement already satisfied: pillow>=8.3.2 in /usr/local/lib/python3.11/dist-packages (from imageio) (11.1.0)\n",
            "Requirement already satisfied: networkx>=3.0 in /usr/local/lib/python3.11/dist-packages (from scikit-image) (3.4.2)\n",
            "Requirement already satisfied: tifffile>=2022.8.12 in /usr/local/lib/python3.11/dist-packages (from scikit-image) (2025.1.10)\n",
            "Requirement already satisfied: packaging>=21 in /usr/local/lib/python3.11/dist-packages (from scikit-image) (24.2)\n",
            "Requirement already satisfied: llvmlite<0.45,>=0.44.0dev0 in /usr/local/lib/python3.11/dist-packages (from numba>=0.51.0->librosa) (0.44.0)\n",
            "Requirement already satisfied: platformdirs>=2.5.0 in /usr/local/lib/python3.11/dist-packages (from pooch>=1.1->librosa) (4.3.6)\n",
            "Requirement already satisfied: requests>=2.19.0 in /usr/local/lib/python3.11/dist-packages (from pooch>=1.1->librosa) (2.32.3)\n",
            "Requirement already satisfied: threadpoolctl>=3.1.0 in /usr/local/lib/python3.11/dist-packages (from scikit-learn>=0.20.0->librosa) (3.5.0)\n",
            "Requirement already satisfied: cffi>=1.0 in /usr/local/lib/python3.11/dist-packages (from soundfile>=0.12.1->librosa) (1.17.1)\n",
            "Requirement already satisfied: pycparser in /usr/local/lib/python3.11/dist-packages (from cffi>=1.0->soundfile>=0.12.1->librosa) (2.22)\n",
            "Requirement already satisfied: charset-normalizer<4,>=2 in /usr/local/lib/python3.11/dist-packages (from requests>=2.19.0->pooch>=1.1->librosa) (3.4.1)\n",
            "Requirement already satisfied: idna<4,>=2.5 in /usr/local/lib/python3.11/dist-packages (from requests>=2.19.0->pooch>=1.1->librosa) (3.10)\n",
            "Requirement already satisfied: urllib3<3,>=1.21.1 in /usr/local/lib/python3.11/dist-packages (from requests>=2.19.0->pooch>=1.1->librosa) (2.3.0)\n",
            "Requirement already satisfied: certifi>=2017.4.17 in /usr/local/lib/python3.11/dist-packages (from requests>=2.19.0->pooch>=1.1->librosa) (2025.1.31)\n",
            "Downloading numpy-2.0.1-cp311-cp311-manylinux_2_17_x86_64.manylinux2014_x86_64.whl (19.5 MB)\n",
            "\u001b[2K   \u001b[90m━━━━━━━━━━━━━━━━━━━━━━━━━━━━━━━━━━━━━━━━\u001b[0m \u001b[32m19.5/19.5 MB\u001b[0m \u001b[31m20.6 MB/s\u001b[0m eta \u001b[36m0:00:00\u001b[0m\n",
            "\u001b[?25hDownloading filetype-1.2.0-py2.py3-none-any.whl (19 kB)\n",
            "Downloading colored-2.3.0-py3-none-any.whl (18 kB)\n",
            "Downloading polygraphy-0.49.18-py2.py3-none-any.whl (354 kB)\n",
            "\u001b[2K   \u001b[90m━━━━━━━━━━━━━━━━━━━━━━━━━━━━━━━━━━━━━━━━\u001b[0m \u001b[32m354.7/354.7 kB\u001b[0m \u001b[31m26.5 MB/s\u001b[0m eta \u001b[36m0:00:00\u001b[0m\n",
            "\u001b[?25hBuilding wheels for collected packages: tensorrt\n",
            "  Building wheel for tensorrt (setup.py) ... \u001b[?25l\u001b[?25hdone\n",
            "  Created wheel for tensorrt: filename=tensorrt-8.6.1-py2.py3-none-any.whl size=16972 sha256=d601b81e870800df3a11ddae69b8b28f4f8a6a6f2c4571ec2229093ef7851dd6\n",
            "  Stored in directory: /root/.cache/pip/wheels/e0/6b/4e/e2fa4f132c650e4fb0bcb573c67d35cd58ad4889fdebfc0a76\n",
            "Successfully built tensorrt\n",
            "Installing collected packages: tensorrt, filetype, polygraphy, numpy, colored\n",
            "  Attempting uninstall: numpy\n",
            "    Found existing installation: numpy 1.26.4\n",
            "    Uninstalling numpy-1.26.4:\n",
            "      Successfully uninstalled numpy-1.26.4\n",
            "\u001b[31mERROR: pip's dependency resolver does not currently take into account all the packages that are installed. This behaviour is the source of the following dependency conflicts.\n",
            "gensim 4.3.3 requires numpy<2.0,>=1.18.5, but you have numpy 2.0.1 which is incompatible.\n",
            "thinc 8.2.5 requires numpy<2.0.0,>=1.19.0; python_version >= \"3.9\", but you have numpy 2.0.1 which is incompatible.\n",
            "pytensor 2.27.1 requires numpy<2,>=1.17.0, but you have numpy 2.0.1 which is incompatible.\n",
            "langchain 0.3.18 requires numpy<2,>=1.26.4; python_version < \"3.12\", but you have numpy 2.0.1 which is incompatible.\u001b[0m\u001b[31m\n",
            "\u001b[0mSuccessfully installed colored-2.3.0 filetype-1.2.0 numpy-2.0.1 polygraphy-0.49.18 tensorrt-8.6.1\n"
          ]
        }
      ],
      "source": [
        "# about 0.5~1min\n",
        "!pip install tensorrt==8.6.1 librosa tqdm filetype imageio opencv_python_headless scikit-image cython cuda-python imageio-ffmpeg colored polygraphy numpy==2.0.1"
      ]
    },
    {
      "cell_type": "code",
      "execution_count": null,
      "metadata": {
        "colab": {
          "base_uri": "https://localhost:8080/"
        },
        "id": "r8IofnIB4Tgj",
        "outputId": "25175b31-6f0b-4afe-ed05-f2afd7bb250f"
      },
      "outputs": [
        {
          "name": "stdout",
          "output_type": "stream",
          "text": [
            "Reading package lists... Done\n",
            "Building dependency tree... Done\n",
            "Reading state information... Done\n",
            "The following NEW packages will be installed:\n",
            "  libcudnn8\n",
            "0 upgraded, 1 newly installed, 0 to remove and 21 not upgraded.\n",
            "Need to get 444 MB of archives.\n",
            "After this operation, 1,099 MB of additional disk space will be used.\n",
            "Get:1 https://developer.download.nvidia.com/compute/cuda/repos/ubuntu2204/x86_64  libcudnn8 8.9.7.29-1+cuda12.2 [444 MB]\n",
            "Fetched 444 MB in 5s (88.6 MB/s)\n",
            "Selecting previously unselected package libcudnn8.\n",
            "(Reading database ... 124926 files and directories currently installed.)\n",
            "Preparing to unpack .../libcudnn8_8.9.7.29-1+cuda12.2_amd64.deb ...\n",
            "Unpacking libcudnn8 (8.9.7.29-1+cuda12.2) ...\n",
            "Setting up libcudnn8 (8.9.7.29-1+cuda12.2) ...\n"
          ]
        }
      ],
      "source": [
        "# If it doesn't work, you may need to add this command:\n",
        "!apt install -y libcudnn8"
      ]
    },
    {
      "cell_type": "markdown",
      "metadata": {
        "id": "c-hcMYRsTexu"
      },
      "source": [
        "### restart runtime"
      ]
    },
    {
      "cell_type": "code",
      "execution_count": null,
      "metadata": {
        "id": "CnU-NrlsS8LQ"
      },
      "outputs": [],
      "source": [
        "# !!!\n",
        "# You need to restart the runtime to ensure that the newly installed environment takes effect\n",
        "# !!!\n",
        "import os\n",
        "os.kill(os.getpid(), 9)"
      ]
    },
    {
      "cell_type": "code",
      "execution_count": null,
      "metadata": {
        "colab": {
          "base_uri": "https://localhost:8080/"
        },
        "id": "EEVhFj4YDRqv",
        "outputId": "739d11b9-159b-47be-f9b1-e1e355cdfd5b"
      },
      "outputs": [
        {
          "name": "stdout",
          "output_type": "stream",
          "text": [
            "drive  sample_data\n"
          ]
        }
      ],
      "source": [
        "# %cd /content/drive/MyDrive/colab/gen\n",
        "!ls"
      ]
    },
    {
      "cell_type": "markdown",
      "metadata": {
        "id": "gBTPG7bRT0sM"
      },
      "source": [
        "### check environment"
      ]
    },
    {
      "cell_type": "code",
      "execution_count": null,
      "metadata": {
        "colab": {
          "base_uri": "https://localhost:8080/"
        },
        "id": "BX9cqefNTzy1",
        "outputId": "ed97f7af-4e50-4014-9c85-48e07a6ee125"
      },
      "outputs": [
        {
          "name": "stdout",
          "output_type": "stream",
          "text": [
            "2.0.1\n",
            "2.5.1+cu124\n",
            "8.6.1\n"
          ]
        }
      ],
      "source": [
        "import numpy as np\n",
        "import torch\n",
        "import tensorrt as trt\n",
        "print(np.__version__)\n",
        "print(torch.__version__)\n",
        "print(trt.__version__)"
      ]
    },
    {
      "cell_type": "markdown",
      "metadata": {
        "id": "uavpfUqbYqdq"
      },
      "source": [
        "## Prepare Code and Models"
      ]
    },
    {
      "cell_type": "markdown",
      "metadata": {
        "id": "aDkcDaetUZyr"
      },
      "source": [
        "### prepare code"
      ]
    },
    {
      "cell_type": "code",
      "execution_count": null,
      "metadata": {
        "colab": {
          "base_uri": "https://localhost:8080/"
        },
        "id": "Gfs0_VEyJm4u",
        "outputId": "ec711a11-2ed9-4be1-9ce2-26898bd1aee4"
      },
      "outputs": [
        {
          "name": "stdout",
          "output_type": "stream",
          "text": [
            "Cloning into 'ditto-talkinghead'...\n",
            "remote: Enumerating objects: 81, done.\u001b[K\n",
            "remote: Counting objects: 100% (81/81), done.\u001b[K\n",
            "remote: Compressing objects: 100% (66/66), done.\u001b[K\n",
            "remote: Total 81 (delta 22), reused 69 (delta 13), pack-reused 0 (from 0)\u001b[K\n",
            "Receiving objects: 100% (81/81), 903.37 KiB | 2.70 MiB/s, done.\n",
            "Resolving deltas: 100% (22/22), done.\n",
            "/content/ditto-talkinghead\n",
            "Already up to date.\n",
            "core\t\t  example\tLICENSE    scripts\t\t       stream_pipeline_online.py\n",
            "environment.yaml  inference.py\tREADME.md  stream_pipeline_offline.py\n"
          ]
        }
      ],
      "source": [
        "# about 2s\n",
        "import os\n",
        "if not os.path.isdir(\"ditto-talkinghead\"):\n",
        "    !git clone https://github.com/MatthewCAlbert/ditto-talkinghead.git\n",
        "\n",
        "%cd ditto-talkinghead\n",
        "!git pull\n",
        "!ls"
      ]
    },
    {
      "cell_type": "markdown",
      "metadata": {
        "id": "6DA4nImZUfPb"
      },
      "source": [
        "### prepare model"
      ]
    },
    {
      "cell_type": "code",
      "execution_count": null,
      "metadata": {
        "colab": {
          "base_uri": "https://localhost:8080/"
        },
        "id": "Gf54LtAfQ890",
        "outputId": "645a4e1e-2a2d-4b94-a31c-c5d0ee22a20b"
      },
      "outputs": [
        {
          "name": "stdout",
          "output_type": "stream",
          "text": [
            "Updated git hooks.\n",
            "Git LFS initialized.\n",
            "Cloning into 'checkpoints'...\n",
            "remote: Enumerating objects: 53, done.\u001b[K\n",
            "remote: Counting objects: 100% (49/49), done.\u001b[K\n",
            "remote: Compressing objects: 100% (48/48), done.\u001b[K\n",
            "remote: Total 53 (delta 7), reused 0 (delta 0), pack-reused 4 (from 1)\u001b[K\n",
            "Unpacking objects: 100% (53/53), 14.45 KiB | 870.00 KiB/s, done.\n",
            "Filtering content: 100% (28/28), 4.29 GiB | 52.32 MiB/s, done.\n",
            "/content/ditto-talkinghead/checkpoints\n",
            "Already up to date.\n",
            "ditto_cfg  ditto_onnx  ditto_trt_Ampere_Plus  LICENSE  README.md\n",
            "/content/ditto-talkinghead\n",
            "checkpoints  environment.yaml  inference.py  README.md\tstream_pipeline_offline.py\n",
            "core\t     example\t       LICENSE\t     scripts\tstream_pipeline_online.py\n"
          ]
        }
      ],
      "source": [
        "# about 1~2min\n",
        "!git lfs install\n",
        "if not os.path.isdir(\"checkpoints\"):\n",
        "    !git clone https://huggingface.co/digital-avatar/ditto-talkinghead checkpoints\n",
        "\n",
        "%cd checkpoints\n",
        "!git pull\n",
        "!ls\n",
        "\n",
        "%cd ..\n",
        "!ls"
      ]
    },
    {
      "cell_type": "markdown",
      "metadata": {
        "id": "FTuJfoveUmsF"
      },
      "source": [
        "### check GPU architecture"
      ]
    },
    {
      "cell_type": "code",
      "execution_count": null,
      "metadata": {
        "colab": {
          "base_uri": "https://localhost:8080/"
        },
        "id": "_OB8Hcg6xXyZ",
        "outputId": "6839ab33-c14c-476f-f421-20f66b6e4d3b"
      },
      "outputs": [
        {
          "name": "stdout",
          "output_type": "stream",
          "text": [
            "Requirement already satisfied: gdown in /usr/local/lib/python3.11/dist-packages (5.2.0)\n",
            "Requirement already satisfied: beautifulsoup4 in /usr/local/lib/python3.11/dist-packages (from gdown) (4.13.3)\n",
            "Requirement already satisfied: filelock in /usr/local/lib/python3.11/dist-packages (from gdown) (3.17.0)\n",
            "Requirement already satisfied: requests[socks] in /usr/local/lib/python3.11/dist-packages (from gdown) (2.32.3)\n",
            "Requirement already satisfied: tqdm in /usr/local/lib/python3.11/dist-packages (from gdown) (4.67.1)\n",
            "Requirement already satisfied: soupsieve>1.2 in /usr/local/lib/python3.11/dist-packages (from beautifulsoup4->gdown) (2.6)\n",
            "Requirement already satisfied: typing-extensions>=4.0.0 in /usr/local/lib/python3.11/dist-packages (from beautifulsoup4->gdown) (4.12.2)\n",
            "Requirement already satisfied: charset-normalizer<4,>=2 in /usr/local/lib/python3.11/dist-packages (from requests[socks]->gdown) (3.4.1)\n",
            "Requirement already satisfied: idna<4,>=2.5 in /usr/local/lib/python3.11/dist-packages (from requests[socks]->gdown) (3.10)\n",
            "Requirement already satisfied: urllib3<3,>=1.21.1 in /usr/local/lib/python3.11/dist-packages (from requests[socks]->gdown) (2.3.0)\n",
            "Requirement already satisfied: certifi>=2017.4.17 in /usr/local/lib/python3.11/dist-packages (from requests[socks]->gdown) (2025.1.31)\n",
            "Requirement already satisfied: PySocks!=1.5.7,>=1.5.6 in /usr/local/lib/python3.11/dist-packages (from requests[socks]->gdown) (1.7.1)\n",
            "Retrieving folder contents\n",
            "Processing file 1-6GtrU91DJvAqGBWUeC88fmW7MSCsoo9 appearance_extractor_fp16.engine\n",
            "Processing file 1-EDxVdNVKN-kXH93Dph6wUKoctO3CULa blaze_face_fp16.engine\n",
            "Processing file 1-ARl89o8u3vi1gcxbK66Vk0G377Vjj6j decoder_fp16.engine\n",
            "Processing file 1-5QigS9HxUizMnJmJ-2tQ2e317p-06X0 face_mesh_fp16.engine\n",
            "Processing file 1-KfXXUVtUpLA2azB9APNcCTEKTHGhew1 hubert_fp32.engine\n",
            "Processing file 1-1xBZEBjyZB0khEBk2gKXMiwDxeYgWK- insightface_det_fp16.engine\n",
            "Processing file 1-8Av3AXZtDqA7pgjB2IymHFlFzdp10Mo landmark106_fp16.engine\n",
            "Processing file 1gBB5nIWW3pZ98PF9wd8yGR_aHhHxdsqF landmark203_fp16.engine\n",
            "Processing file 1-9wZtSkPBi5VXC87Pa3RU0IlICgp-y32 lmdm_v0.4_hubert_fp32.engine\n",
            "Processing file 1-HkpVhfH2Mbrbx3mX6eIqdB0F-vhoW17 motion_extractor_fp32.engine\n",
            "Processing file 1-HOswhcFfvJEqzLVI1x3XxO0c1sYq8X1 stitch_network_fp16.engine\n",
            "Processing file 1-D1OprBdD6K5upfNi4hGy-eRwvaLHOEN warp_network_fp16.engine\n",
            "Retrieving folder contents completed\n",
            "Building directory structure\n",
            "Building directory structure completed\n",
            "Downloading...\n",
            "From: https://drive.google.com/uc?id=1-6GtrU91DJvAqGBWUeC88fmW7MSCsoo9\n",
            "To: /content/ditto-talkinghead/checkpoints/ditto_trt/appearance_extractor_fp16.engine\n",
            "100% 1.90M/1.90M [00:00<00:00, 17.0MB/s]\n",
            "Downloading...\n",
            "From: https://drive.google.com/uc?id=1-EDxVdNVKN-kXH93Dph6wUKoctO3CULa\n",
            "To: /content/ditto-talkinghead/checkpoints/ditto_trt/blaze_face_fp16.engine\n",
            "100% 1.27M/1.27M [00:00<00:00, 10.7MB/s]\n",
            "Downloading...\n",
            "From (original): https://drive.google.com/uc?id=1-ARl89o8u3vi1gcxbK66Vk0G377Vjj6j\n",
            "From (redirected): https://drive.google.com/uc?id=1-ARl89o8u3vi1gcxbK66Vk0G377Vjj6j&confirm=t&uuid=9733e8bc-ab4b-46b1-ad4d-a6e58d2c601c\n",
            "To: /content/ditto-talkinghead/checkpoints/ditto_trt/decoder_fp16.engine\n",
            "100% 113M/113M [00:01<00:00, 58.0MB/s]\n",
            "Downloading...\n",
            "From: https://drive.google.com/uc?id=1-5QigS9HxUizMnJmJ-2tQ2e317p-06X0\n",
            "To: /content/ditto-talkinghead/checkpoints/ditto_trt/face_mesh_fp16.engine\n",
            "100% 8.37M/8.37M [00:00<00:00, 40.4MB/s]\n",
            "Downloading...\n",
            "From (original): https://drive.google.com/uc?id=1-KfXXUVtUpLA2azB9APNcCTEKTHGhew1\n",
            "From (redirected): https://drive.google.com/uc?id=1-KfXXUVtUpLA2azB9APNcCTEKTHGhew1&confirm=t&uuid=a1e60603-93f0-4f78-97ed-a5eeedec40c8\n",
            "To: /content/ditto-talkinghead/checkpoints/ditto_trt/hubert_fp32.engine\n",
            "100% 1.46G/1.46G [00:17<00:00, 83.1MB/s]\n",
            "Downloading...\n",
            "From: https://drive.google.com/uc?id=1-1xBZEBjyZB0khEBk2gKXMiwDxeYgWK-\n",
            "To: /content/ditto-talkinghead/checkpoints/ditto_trt/insightface_det_fp16.engine\n",
            "100% 10.3M/10.3M [00:00<00:00, 38.7MB/s]\n",
            "Downloading...\n",
            "From: https://drive.google.com/uc?id=1-8Av3AXZtDqA7pgjB2IymHFlFzdp10Mo\n",
            "To: /content/ditto-talkinghead/checkpoints/ditto_trt/landmark106_fp16.engine\n",
            "100% 5.38M/5.38M [00:00<00:00, 28.4MB/s]\n",
            "Downloading...\n",
            "From: https://drive.google.com/uc?id=1gBB5nIWW3pZ98PF9wd8yGR_aHhHxdsqF\n",
            "To: /content/ditto-talkinghead/checkpoints/ditto_trt/landmark203_fp16.engine\n",
            "100% 65.3M/65.3M [00:01<00:00, 47.1MB/s]\n",
            "Downloading...\n",
            "From (original): https://drive.google.com/uc?id=1-9wZtSkPBi5VXC87Pa3RU0IlICgp-y32\n",
            "From (redirected): https://drive.google.com/uc?id=1-9wZtSkPBi5VXC87Pa3RU0IlICgp-y32&confirm=t&uuid=d7cec99e-71c2-460d-b6d8-bdf91a7b64d1\n",
            "To: /content/ditto-talkinghead/checkpoints/ditto_trt/lmdm_v0.4_hubert_fp32.engine\n",
            "100% 195M/195M [00:02<00:00, 85.5MB/s]\n",
            "Downloading...\n",
            "From (original): https://drive.google.com/uc?id=1-HkpVhfH2Mbrbx3mX6eIqdB0F-vhoW17\n",
            "From (redirected): https://drive.google.com/uc?id=1-HkpVhfH2Mbrbx3mX6eIqdB0F-vhoW17&confirm=t&uuid=7d7e07e2-3ac1-40c8-94c3-f4f822fb77f0\n",
            "To: /content/ditto-talkinghead/checkpoints/ditto_trt/motion_extractor_fp32.engine\n",
            "100% 116M/116M [00:02<00:00, 47.5MB/s]\n",
            "Downloading...\n",
            "From: https://drive.google.com/uc?id=1-HOswhcFfvJEqzLVI1x3XxO0c1sYq8X1\n",
            "To: /content/ditto-talkinghead/checkpoints/ditto_trt/stitch_network_fp16.engine\n",
            "100% 241k/241k [00:00<00:00, 4.57MB/s]\n",
            "Downloading...\n",
            "From (original): https://drive.google.com/uc?id=1-D1OprBdD6K5upfNi4hGy-eRwvaLHOEN\n",
            "From (redirected): https://drive.google.com/uc?id=1-D1OprBdD6K5upfNi4hGy-eRwvaLHOEN&confirm=t&uuid=457f7034-bbb7-4b5b-8b96-28cdd7e59add\n",
            "To: /content/ditto-talkinghead/checkpoints/ditto_trt/warp_network_fp16.engine\n",
            "100% 106M/106M [00:01<00:00, 55.1MB/s]\n",
            "Download completed\n"
          ]
        }
      ],
      "source": [
        "# about 1~2min\n",
        "import os\n",
        "import torch\n",
        "\n",
        "def cvt_custom_trt():\n",
        "    from scripts.cvt_onnx_to_trt import main as cvt_trt\n",
        "    onnx_dir = \"./checkpoints/ditto_onnx\"\n",
        "    trt_dir = \"./checkpoints/ditto_trt_custom\"\n",
        "    assert os.path.isdir(onnx_dir)\n",
        "    os.makedirs(trt_dir, exist_ok=True)\n",
        "    grid_sample_plugin_file = os.path.join(onnx_dir, \"libgrid_sample_3d_plugin.so\")\n",
        "    cvt_trt(onnx_dir, trt_dir, grid_sample_plugin_file)\n",
        "    return trt_dir\n",
        "\n",
        "\n",
        "def download_Non_Ampere_trt():\n",
        "    !pip install --upgrade --no-cache-dir gdown\n",
        "    !gdown https://drive.google.com/drive/folders/1-1qnqy0D9ICgRh8iNY_22j9ieNRC0-zf?usp=sharing -O ./checkpoints/ditto_trt --folder\n",
        "    trt_dir = \"./checkpoints/ditto_trt\"\n",
        "    return trt_dir\n",
        "\n",
        "\n",
        "if torch.cuda.get_device_capability()[0] < 8:\n",
        "    # data_root = cvt_custom_trt()    # cvt\n",
        "    # The conversion is slow, so you can download pre-converted files.\n",
        "    data_root = download_Non_Ampere_trt()\n",
        "else:\n",
        "    data_root = \"./checkpoints/ditto_trt_Ampere_Plus\""
      ]
    },
    {
      "cell_type": "markdown",
      "metadata": {
        "id": "wFNuRUa3Y1gu"
      },
      "source": [
        "## Inference"
      ]
    },
    {
      "cell_type": "markdown",
      "metadata": {
        "id": "VZyDsSITWhtK"
      },
      "source": [
        "### run inference"
      ]
    },
    {
      "cell_type": "code",
      "execution_count": null,
      "metadata": {
        "colab": {
          "base_uri": "https://localhost:8080/"
        },
        "id": "e2XiC3zjWv54",
        "outputId": "161a0d56-3995-45f8-83bf-1dc0ecd12f6f"
      },
      "outputs": [
        {
          "name": "stdout",
          "output_type": "stream",
          "text": [
            "./checkpoints/ditto_trt\n",
            "./checkpoints/ditto_cfg/v0.4_hubert_cfg_trt.pkl\n"
          ]
        }
      ],
      "source": [
        "# init, about 10s\n",
        "from inference import StreamSDK, run\n",
        "# data_root = \"./checkpoints/ditto_trt_custom\"   # model dir\n",
        "cfg_pkl = \"./checkpoints/ditto_cfg/v0.4_hubert_cfg_trt.pkl\"     # cfg pkl\n",
        "print(data_root)\n",
        "print(cfg_pkl)\n",
        "SDK = StreamSDK(cfg_pkl, data_root)"
      ]
    },
    {
      "cell_type": "code",
      "execution_count": null,
      "metadata": {
        "colab": {
          "base_uri": "https://localhost:8080/"
        },
        "id": "pHy8UthkW0mp",
        "outputId": "d3d75b8e-26bb-48b0-ea7f-5a6382a394fd"
      },
      "outputs": [
        {
          "name": "stdout",
          "output_type": "stream",
          "text": [
            "==================== setup kwargs ====================\n",
            "max_size <class 'int'> 1920\n",
            "template_n_frames <class 'int'> -1\n",
            "crop_scale <class 'float'> 2.3\n",
            "crop_vx_ratio <class 'int'> 0\n",
            "crop_vy_ratio <class 'float'> -0.125\n",
            "crop_flag_do_rot <class 'bool'> True\n",
            "smo_k_s <class 'int'> 13\n",
            "emo <class 'numpy.ndarray'> (600, 8)\n",
            "eye_f0_mode <class 'bool'> False\n",
            "ch_info <class 'dict'>\n",
            "overlap_v2 <class 'int'> 10\n",
            "fix_kp_cond <class 'int'> 1\n",
            "fix_kp_cond_dim <class 'list'> [0, 202]\n",
            "sampling_timesteps <class 'int'> 50\n",
            "online_mode <class 'bool'> False\n",
            "v_min_max_for_clip <class 'numpy.ndarray'> (4, 265)\n",
            "smo_k_d <class 'int'> 3\n",
            "N_d <class 'int'> -1\n",
            "use_d_keys <class 'NoneType'> None\n",
            "relative_d <class 'bool'> True\n",
            "drive_eye <class 'NoneType'> None\n",
            "delta_eye_arr <class 'numpy.ndarray'> (15, 63)\n",
            "delta_eye_open_n <class 'int'> 0\n",
            "fade_type <class 'str'> d0\n",
            "fade_out_keys <class 'list'> ['exp']\n",
            "flag_stitching <class 'bool'> True\n",
            "overall_ctrl_info <class 'dict'> {'delta_pitch': 2}\n",
            "==================================================\n"
          ]
        },
        {
          "name": "stderr",
          "output_type": "stream",
          "text": [
            "writer: 0it [00:00, ?it/s]\n",
            "dit: 0it [00:00, ?it/s]\u001b[A\n",
            "dit: 2it [00:00,  5.69it/s]\u001b[A\n",
            "dit: 3it [00:00,  4.02it/s]\u001b[A\n",
            "dit: 4it [00:01,  3.47it/s]\u001b[A\n",
            "dit: 5it [00:01,  3.24it/s]\u001b[A\n",
            "dit: 6it [00:02,  2.85it/s]\n",
            "writer: 394it [01:38,  4.01it/s]\n"
          ]
        },
        {
          "name": "stdout",
          "output_type": "stream",
          "text": [
            "ffmpeg -loglevel error -y -i \"./tmp/result.mp4.tmp.mp4\" -i \"./example/audio.wav\" -map 0:v -map 1:a -c:v copy -c:a aac \"./tmp/result.mp4\"\n",
            "./tmp/result.mp4\n"
          ]
        }
      ],
      "source": [
        "# run inference, about 1~2min\n",
        "audio_path = \"./example/audio.wav\"    # .wav\n",
        "source_path = \"./example/image.png\"   # video|image\n",
        "output_path = \"./tmp/result.mp4\"    # .mp4\n",
        "\n",
        "run(SDK, audio_path, source_path, output_path)"
      ]
    },
    {
      "cell_type": "markdown",
      "metadata": {
        "id": "MSnGPdztwUHd"
      },
      "source": [
        "### display result"
      ]
    },
    {
      "cell_type": "code",
      "execution_count": null,
      "metadata": {
        "id": "EB1UVFpIwTNG"
      },
      "outputs": [],
      "source": [
        "# display, about 5~10s\n",
        "from IPython.display import HTML\n",
        "from base64 import b64encode\n",
        "import os, sys\n",
        "import glob\n",
        "\n",
        "mp4_name = output_path\n",
        "\n",
        "mp4 = open('{}'.format(mp4_name),'rb').read()\n",
        "data_url = \"data:video/mp4;base64,\" + b64encode(mp4).decode()\n",
        "\n",
        "print('Display animation: {}'.format(mp4_name), file=sys.stderr)\n",
        "display(HTML(\"\"\"\n",
        "  <video width=256 controls>\n",
        "        <source src=\"%s\" type=\"video/mp4\">\n",
        "  </video>\n",
        "  \"\"\" % data_url))"
      ]
    },
    {
      "cell_type": "code",
      "execution_count": null,
      "metadata": {
        "colab": {
          "base_uri": "https://localhost:8080/"
        },
        "id": "u3OasQntujc_",
        "outputId": "9c5e98ec-c8ab-4de7-d87c-7300f55a1164"
      },
      "outputs": [
        {
          "name": "stdout",
          "output_type": "stream",
          "text": [
            "Fri Feb 21 09:00:18 2025       \n",
            "+-----------------------------------------------------------------------------------------+\n",
            "| NVIDIA-SMI 550.54.15              Driver Version: 550.54.15      CUDA Version: 12.4     |\n",
            "|-----------------------------------------+------------------------+----------------------+\n",
            "| GPU  Name                 Persistence-M | Bus-Id          Disp.A | Volatile Uncorr. ECC |\n",
            "| Fan  Temp   Perf          Pwr:Usage/Cap |           Memory-Usage | GPU-Util  Compute M. |\n",
            "|                                         |                        |               MIG M. |\n",
            "|=========================================+========================+======================|\n",
            "|   0  Tesla T4                       Off |   00000000:00:04.0 Off |                    0 |\n",
            "| N/A   72C    P0             31W /   70W |    2950MiB /  15360MiB |      0%      Default |\n",
            "|                                         |                        |                  N/A |\n",
            "+-----------------------------------------+------------------------+----------------------+\n",
            "                                                                                         \n",
            "+-----------------------------------------------------------------------------------------+\n",
            "| Processes:                                                                              |\n",
            "|  GPU   GI   CI        PID   Type   Process name                              GPU Memory |\n",
            "|        ID   ID                                                               Usage      |\n",
            "|=========================================================================================|\n",
            "+-----------------------------------------------------------------------------------------+\n"
          ]
        }
      ],
      "source": [
        "!nvidia-smi"
      ]
    }
  ],
  "metadata": {
    "accelerator": "GPU",
    "colab": {
      "gpuType": "T4",
      "provenance": []
    },
    "kernelspec": {
      "display_name": "Python 3",
      "name": "python3"
    },
    "language_info": {
      "name": "python"
    }
  },
  "nbformat": 4,
  "nbformat_minor": 0
}
