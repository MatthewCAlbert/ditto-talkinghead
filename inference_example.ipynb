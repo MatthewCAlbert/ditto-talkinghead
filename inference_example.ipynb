{
 "cells": [
  {
   "cell_type": "code",
   "execution_count": null,
   "metadata": {
    "vscode": {
     "languageId": "plaintext"
    }
   },
   "outputs": [],
   "source": [
    "# Ditto Talking Head: Example Inference in Jupyter\n",
    "\n",
    "This notebook demonstrates how to run the talking head inference pipeline using the provided example audio and image.\n"
   ]
  },
  {
   "cell_type": "code",
   "execution_count": null,
   "metadata": {},
   "outputs": [],
   "source": [
    "import sys\n",
    "import os\n",
    "sys.path.append(os.path.abspath('.'))  # Ensure project root is in path\n",
    "\n",
    "from stream_pipeline_offline import StreamSDK\n",
    "from inference import run\n"
   ]
  },
  {
   "cell_type": "code",
   "execution_count": null,
   "metadata": {},
   "outputs": [],
   "source": [
    "## Set up input and output paths\n"
   ]
  },
  {
   "cell_type": "code",
   "execution_count": null,
   "metadata": {},
   "outputs": [],
   "source": [
    "audio_path = 'example/audio.wav'\n",
    "image_path = 'example/image.png'\n",
    "output_path = 'example/output.mp4'\n",
    "\n",
    "# You may need to adjust these if you have custom checkpoints\n",
    "data_root = './checkpoints/ditto_trt_Ampere_Plus'  # Path to model directory\n",
    "cfg_pkl = './checkpoints/ditto_cfg/v0.4_hubert_cfg_trt.pkl'  # Path to config pickle\n"
   ]
  },
  {
   "cell_type": "code",
   "execution_count": null,
   "metadata": {},
   "outputs": [],
   "source": [
    "## Initialize the SDK and run inference\n"
   ]
  },
  {
   "cell_type": "code",
   "execution_count": null,
   "metadata": {},
   "outputs": [],
   "source": [
    "# Initialize SDK\n",
    "SDK = StreamSDK(cfg_pkl, data_root)\n",
    "\n",
    "# Run inference\n",
    "run(SDK, audio_path, image_path, output_path)\n",
    "print(f'Output saved to: {output_path}')\n"
   ]
  },
  {
   "cell_type": "code",
   "execution_count": null,
   "metadata": {},
   "outputs": [],
   "source": [
    "## Display the output video (if running in a notebook that supports video playback)\n"
   ]
  },
  {
   "cell_type": "code",
   "execution_count": null,
   "metadata": {},
   "outputs": [],
   "source": [
    "from IPython.display import Video, display\n",
    "\n",
    "if os.path.exists(output_path):\n",
    "    display(Video(output_path, embed=True, width=512))\n",
    "else:\n",
    "    print('Output video not found.')\n"
   ]
  }
 ],
 "metadata": {
  "language_info": {
   "name": "python"
  }
 },
 "nbformat": 4,
 "nbformat_minor": 2
}
